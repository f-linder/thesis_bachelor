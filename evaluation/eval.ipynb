{
 "cells": [
  {
   "cell_type": "code",
   "execution_count": 8,
   "id": "864e1cd7-34cc-44f0-855e-9a3f710356bf",
   "metadata": {},
   "outputs": [],
   "source": [
    "import sys\n",
    "sys.path.append('..')\n",
    "import numpy as np\n",
    "import pandas as pd\n",
    "import ast\n",
    "import math\n",
    "from analysis.directed_information import *\n",
    "from analysis.simulations import VAR, NVAR"
   ]
  },
  {
   "cell_type": "code",
   "execution_count": null,
   "id": "10959387-d70c-4d0c-b779-0997d5d45df1",
   "metadata": {},
   "outputs": [],
   "source": [
    "def evaluate_var(num, path, m, order, max_coef, t, estimators, subset_selection):\n",
    "    coefficients = []\n",
    "    di_exact = []\n",
    "    di_estimate = []\n",
    "    \n",
    "    for i in num:\n",
    "        var = VAR(m, order)\n",
    "        var.generate(max_coef)\n",
    "        timeseries = var.simulate(t)\n",
    "\n",
    "        # \n",
    "        coefficients.append(var.get_coefficients())\n",
    "        di_exact.append(var.directed_information_graph())\n",
    "\n",
    "        di_estimated = directed_information_graph(timeseries, order=order, subset_selection=subset_selection, estimator=estimator)\n",
    "        \n",
    "    \n",
    "\n",
    "def classify(real, real_threshold, estimate, estimate_threshold):\n",
    "    assert real.shape == estimate.shape, 'Dimensions of real and estimated DI values must match'\n",
    "\n",
    "    TP, FP, TN, FN = 0, 0, 0, 0\n",
    "    \n",
    "    real = real.flatten()\n",
    "    estimate = estimate.flatten()\n",
    "    \n",
    "    for real_di, estimated_di in zip(real, estimate):\n",
    "        # classified as positive\n",
    "        if estimated_di >= estimate_threshold:\n",
    "            if real_di >= real_threshold:\n",
    "                TP +=1\n",
    "            else:\n",
    "                FP += 1\n",
    "        # classified as negative\n",
    "        else:\n",
    "            if real_di < real_threshold:\n",
    "                TN += 1\n",
    "            else:\n",
    "                FN += 1\n",
    "\n",
    "    return {'TP': TP, 'FP': FP, 'TN': TN, 'FN': FN}         "
   ]
  },
  {
   "cell_type": "code",
   "execution_count": null,
   "id": "3d156b77-b4f7-4dbb-9331-6218b71ff8a2",
   "metadata": {},
   "outputs": [],
   "source": [
    "T = [500, 1000, 2500, 5000, 10000]\n",
    "M = [for m in range(2, 11,)]\n",
    "\n"
   ]
  }
 ],
 "metadata": {
  "kernelspec": {
   "display_name": "Python 3 (ipykernel)",
   "language": "python",
   "name": "python3"
  },
  "language_info": {
   "codemirror_mode": {
    "name": "ipython",
    "version": 3
   },
   "file_extension": ".py",
   "mimetype": "text/x-python",
   "name": "python",
   "nbconvert_exporter": "python",
   "pygments_lexer": "ipython3",
   "version": "3.10.12"
  }
 },
 "nbformat": 4,
 "nbformat_minor": 5
}
