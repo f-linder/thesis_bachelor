{
 "cells": [
  {
   "cell_type": "code",
   "execution_count": 1,
   "id": "043b89e1-51c4-42f1-acf9-68edfeaad846",
   "metadata": {},
   "outputs": [],
   "source": [
    "from analysis.utils import *\n",
    "from analysis.probabilities import *\n",
    "from analysis.interdependence import *\n",
    "from analysis.simulation import * \n",
    "from datetime import datetime\n",
    "import matplotlib.pyplot as plt\n",
    "from graphviz import Digraph\n",
    "import math\n",
    "import re\n",
    "import ast\n",
    "import pandas as pd\n",
    "import numpy as np"
   ]
  },
  {
   "cell_type": "code",
   "execution_count": 7,
   "id": "68313823-72d7-4a8f-80b7-8aa90efeb13c",
   "metadata": {
    "scrolled": true
   },
   "outputs": [
    {
     "name": "stdout",
     "output_type": "stream",
     "text": [
      "VAR(1): X_t = C_1 * X_t-1 + N_t\n",
      "C_1 = \n",
      "array([[ 0.15788665,  0.81921005],\n",
      "       [ 0.        , -0.89      ]])\n",
      "\n",
      "[[ 0.18329896  0.19330141]\n",
      " [-0.03045673 -0.09911075]\n",
      " [-0.10995501 -0.19023966]\n",
      " ...\n",
      " [-0.13847856 -0.60882146]\n",
      " [-0.52544612  0.74263068]\n",
      " [ 0.41938127 -0.29871319]]\n"
     ]
    }
   ],
   "source": [
    "# test of randomly generated, stable AR model\n",
    "var = VAR(m=2, order=1)\n",
    "var.generate(2)\n",
    "print(var)\n",
    "\n",
    "steps = 2000\n",
    "timeseries = var.simulate(steps)\n",
    "\n",
    "print(timeseries)\n",
    "labels = labels = [f'X{i}' for i in range(var.m)]"
   ]
  },
  {
   "cell_type": "code",
   "execution_count": 8,
   "id": "7fe75e19-4438-4555-92fd-c8ff65833b87",
   "metadata": {},
   "outputs": [
    {
     "data": {
      "text/plain": [
       "array([[0.05527364, 0.        ],\n",
       "       [0.77128242, 0.8368604 ]])"
      ]
     },
     "execution_count": 8,
     "metadata": {},
     "output_type": "execute_result"
    }
   ],
   "source": [
    "# exact DI values\n",
    "var.directed_information_graph(plot=False)"
   ]
  },
  {
   "cell_type": "code",
   "execution_count": 8,
   "id": "38d322f4-f706-4a8c-8a16-2d08012653f5",
   "metadata": {},
   "outputs": [
    {
     "name": "stdout",
     "output_type": "stream",
     "text": [
      "[[-0.02096154 -0.02458578 -0.01787043]\n",
      " [-0.01577037 -0.0208977  -0.01952097]\n",
      " [-0.00994725  0.04239666 -0.01199288]]\n"
     ]
    }
   ],
   "source": [
    "# knn estimated di values\n",
    "k=50\n",
    "\n",
    "knn_euclidean = KNN(metric='euclidean')\n",
    "print(directed_information_graph(timeseries, estimator=knn_euclidean))\n",
    "\n",
    "#knn_manhattan = KNN(metric='manhattan')\n",
    "#print(directed_information_graph(timeseries, estimator=knn_manhattan)"
   ]
  },
  {
   "cell_type": "code",
   "execution_count": 12,
   "id": "72d37dde-57e1-4ba8-bf8a-a996a70fb30a",
   "metadata": {},
   "outputs": [
    {
     "data": {
      "text/plain": [
       "array([[ 1.24306477, -0.22569073, -0.15829172],\n",
       "       [-0.28781244,  1.83141698, -0.2772692 ],\n",
       "       [ 0.10037192, -0.23611272,  1.79864734]])"
      ]
     },
     "execution_count": 12,
     "metadata": {},
     "output_type": "execute_result"
    }
   ],
   "source": [
    "# kde estimaed di values\n",
    "kde = KDE(kernel='exponential', bandwidth='silverman') \n",
    "directed_information_graph(timeseries, estimator=kde)"
   ]
  },
  {
   "cell_type": "code",
   "execution_count": 5,
   "id": "fb6f9fb0-f4c1-4cc2-ae65-c059256412b0",
   "metadata": {},
   "outputs": [
    {
     "name": "stdout",
     "output_type": "stream",
     "text": [
      "[['**0.833' '']\n",
      " ['tanh' '']]\n",
      "[[-1.1418043  -0.56047742]\n",
      " [-1.16547171 -0.96387745]\n",
      " [-1.21502381 -0.66910352]\n",
      " ...\n",
      " [ 0.46431216  0.65682215]\n",
      " [ 0.48544343  0.35553816]\n",
      " [ 0.64021861  0.56816092]]\n"
     ]
    },
    {
     "data": {
      "text/plain": [
       "array([[1.40479474, 1.08997737],\n",
       "       [0.        , 0.        ]])"
      ]
     },
     "execution_count": 5,
     "metadata": {},
     "output_type": "execute_result"
    }
   ],
   "source": [
    "nvar = NVAR(m=2, order=1)\n",
    "nvar.generate(2)\n",
    "print(nvar.functions_str[0])\n",
    "timeseries = nvar.simulate(10000)\n",
    "print(timeseries)\n",
    "nvar.directed_information_graph(plot=False)"
   ]
  },
  {
   "cell_type": "code",
   "execution_count": 5,
   "id": "0ead92eb-fd8e-4d2e-8ba5-eafefb2345ae",
   "metadata": {},
   "outputs": [
    {
     "data": {
      "text/plain": [
       "array([[-1.71282463,  0.82038829],\n",
       "       [-0.17245451, -2.25636623]])"
      ]
     },
     "execution_count": 5,
     "metadata": {},
     "output_type": "execute_result"
    }
   ],
   "source": [
    "directed_information_graph(timeseries)"
   ]
  },
  {
   "cell_type": "code",
   "execution_count": 2,
   "id": "8da1efb1-417c-4dac-9345-cf695fb56b52",
   "metadata": {},
   "outputs": [],
   "source": [
    "apple = 'AAPL'\n",
    "microsoft = 'MSFT'\n",
    "google = 'GOOG'\n",
    "tickers = [apple, microsoft, google]\n",
    "# start_date = datetime(2015, 10, 15)\n",
    "# end_date = datetimte(2023, 10, 15)\n",
    "# download_tickers(tickers, start_date, end_date)\n",
    "\n",
    "apple_df = pd.read_csv(f'data/{apple}.csv')\n",
    "microsoft_df = pd.read_csv(f'data/{microsoft}.csv')\n",
    "google_df = pd.read_csv(f'data/{google}.csv')"
   ]
  },
  {
   "cell_type": "code",
   "execution_count": 6,
   "id": "e4d699ec-ac4c-472d-b2fd-923b1255b3ef",
   "metadata": {},
   "outputs": [
    {
     "name": "stdout",
     "output_type": "stream",
     "text": [
      "[[0.04613279 0.05857413 0.07322361 0.08488113 0.08523372]]\n"
     ]
    },
    {
     "data": {
      "text/plain": [
       "0.08706496339757255"
      ]
     },
     "execution_count": 6,
     "metadata": {},
     "output_type": "execute_result"
    }
   ],
   "source": [
    "# test of density for one random variable\n",
    "returns = np.array([apple_df['Returns'], microsoft_df['Returns']]).transpose()\n",
    "\n",
    "# bandwidth = 'silverman' | 'scott' | float\n",
    "kde = KDE(kernel='exponential', bandwidth='silverman')\n",
    "knn = KNN(k5)\n",
    "\n",
    "pdf_kde = pdf(kde, returns)\n",
    "pdf_knn = pdf(knn, returns)\n",
    "\n",
    "# print density distributions\n",
    "x_vals = np.linspace(-4, 4, 1000)\n",
    "#y_knn = [pdf_knn([x]) for x in x_vals]\n",
    "#y_kde = [pdf_kde([x]) for x in x_vals]\n",
    "\n",
    "pdf_knn([0.5, 0.5])\n",
    "\n",
    "# plt.plot(x_vals, y_kde, label='KDE', color='blue')\n",
    "# plt.plot(x_vals, y_knn, label='KNN', color='red')\n",
    "# plt.legend()\n",
    "# plt.show()"
   ]
  },
  {
   "cell_type": "code",
   "execution_count": 9,
   "id": "cd737a8f-b383-4208-9590-07c2fce51cac",
   "metadata": {},
   "outputs": [
    {
     "name": "stdout",
     "output_type": "stream",
     "text": [
      "0.021776722525108032\n",
      "0.023402240786512138\n"
     ]
    },
    {
     "data": {
      "image/png": "[encoded data removed]",
      "text/plain": [
       "<Figure size 640x480 with 1 Axes>"
      ]
     },
     "metadata": {},
     "output_type": "display_data"
    },
    {
     "data": {
      "image/png": "[encoded data removed]",
      "text/plain": [
       "<Figure size 640x480 with 1 Axes>"
      ]
     },
     "metadata": {},
     "output_type": "display_data"
    }
   ],
   "source": [
    "# test of density for multiple random variable\n",
    "returns = np.array([apple_df['Returns'], google_df['Returns']]).transpose()\n",
    "\n",
    "pdf_kde = pdf(kde, returns)\n",
    "pdf_knn = pdf(knn, returns)\n",
    "\n",
    "print(pdf_kde([2, 2]))\n",
    "print(pdf_knn([2, 2]))\n",
    "\n",
    "values = np.linspace(-4, 4, 100)\n",
    "print3D(values, values, pdf_kde, 'KDE Pr(X,Y)')\n",
    "print3D(values, values, pdf_knn, 'KNN Pr(X,Y)')"
   ]
  },
  {
   "cell_type": "code",
   "execution_count": 9,
   "id": "cfdb1798-7731-4733-8243-edc74346fa18",
   "metadata": {},
   "outputs": [],
   "source": [
    "def percentage_correct(real, estimate, threshold):\n",
    "    dim = len(real)\n",
    "    total = dim * dim\n",
    "    correct = 0\n",
    "    total = 0\n",
    "    for i in range(dim):\n",
    "        for j in range(dim):\n",
    "            if real[i, j] > 0 and estimate[i, j] >= threshold:\n",
    "                correct += 1\n",
    "                total += 1\n",
    "            if real[i, j] > 0 and estimate[i, j] < threshold:\n",
    "                total += 1\n",
    "            \n",
    "    return correct / total if total != 0 else None\n",
    "\n",
    "def cut_irrelevant(x, threshold):\n",
    "    for i in range(len(x)):\n",
    "        for j in range(len(x[0])):\n",
    "            if x[i, j] < threshold:\n",
    "                x[i, j] = 0\n",
    "                \n",
    "    return x"
   ]
  },
  {
   "cell_type": "code",
   "execution_count": 9,
   "id": "3d7f892e-8d88-488a-b0b0-5eea6df6ab44",
   "metadata": {},
   "outputs": [
    {
     "name": "stdout",
     "output_type": "stream",
     "text": [
      "t=100 done\n",
      "t=200 done\n",
      "t=300 done\n",
      "t=400 done\n",
      "t=500 done\n",
      "t=600 done\n",
      "t=700 done\n",
      "t=800 done\n",
      "t=900 done\n",
      "t=1000 done\n"
     ]
    },
    {
     "ename": "NameError",
     "evalue": "name 'df_2' is not defined",
     "output_type": "error",
     "traceback": [
      "\u001b[1;31m---------------------------------------------------------------------------\u001b[0m",
      "\u001b[1;31mNameError\u001b[0m                                 Traceback (most recent call last)",
      "Cell \u001b[1;32mIn[9], line 32\u001b[0m\n\u001b[0;32m     30\u001b[0m df_2_t[\u001b[38;5;124m'\u001b[39m\u001b[38;5;124mreal\u001b[39m\u001b[38;5;124m'\u001b[39m] \u001b[38;5;241m=\u001b[39m real_di_2_t\n\u001b[0;32m     31\u001b[0m df_2_t[\u001b[38;5;124m'\u001b[39m\u001b[38;5;124mknn\u001b[39m\u001b[38;5;124m'\u001b[39m] \u001b[38;5;241m=\u001b[39m knn_di_2_t\n\u001b[1;32m---> 32\u001b[0m \u001b[43mdf_2\u001b[49m\u001b[38;5;241m.\u001b[39mto_csv(\u001b[38;5;124m'\u001b[39m\u001b[38;5;124mknn_m_2_ts.csv\u001b[39m\u001b[38;5;124m'\u001b[39m, index\u001b[38;5;241m=\u001b[39m\u001b[38;5;28;01mFalse\u001b[39;00m)\n",
      "\u001b[1;31mNameError\u001b[0m: name 'df_2' is not defined"
     ]
    }
   ],
   "source": [
    "# tests for different T, m=2\n",
    "m = 2\n",
    "n_pred = 1\n",
    "\n",
    "real_di_2_t = []\n",
    "knn_di_2_t = []\n",
    "knn_di_2_sqrt_t = []\n",
    "kde_di_2_t = []\n",
    "\n",
    "for t in range(100, 1001, 100):\n",
    "    real_di_i = []\n",
    "    knn_di_i = []\n",
    "    knn_di_sqrt_i = []\n",
    "    kde_di_i = []\n",
    "\n",
    "    knn = KNN()\n",
    "    knn_sqrt = KNN(k=math.sqrt(t))\n",
    "    kde = KDE()\n",
    "    \n",
    "    for i in range(100):\n",
    "        var = VAR(m, order=1)\n",
    "        var.generate(n_pred)\n",
    "        timeseries = var.simulate(t)\n",
    "    \n",
    "        real_di = var.directed_information_graph().tolist()\n",
    "        estimated_di_knn = directed_information_graph(timeseries, estimator=knn).tolist()\n",
    "        estimated_di_knn_sqrt = directed_information_graph(timeseries, estimator=knn_sqrt).tolist()\n",
    "        estimated_di_kde = directed_information_graph(timeseries, estimator=kde).tolist()\n",
    "        \n",
    "        real_di_i.append(real_di)\n",
    "        knn_di_i.append(estimated_di_knn)\n",
    "        knn_di_sqrt_i.append(estimated_di_knn_sqrt)\n",
    "        kde_di_i.append(estimated_di_kde)\n",
    "\n",
    "    \n",
    "    real_di_2_t.append(real_di_i)\n",
    "    knn_di_2_t.append(knn_di_i)\n",
    "    knn_di_2_sqrt_t.append(knn_di_sqrt_i)\n",
    "    kde_di_2_t.append(kde_di_i)\n",
    "\n",
    "df_2_t = pd.DataFrame()\n",
    "df_2_t['real'] = real_di_2_t\n",
    "df_2_t['knn'] = knn_di_2_t\n",
    "df_2_t['knn_sqrt'] = knn_di_2_sqrt_t\n",
    "df_2_t['kde'] = kde_di_2_t\n",
    "df_2_t.to_csv('knn_kde_m_2_ts.csv', index=False)"
   ]
  },
  {
   "cell_type": "code",
   "execution_count": null,
   "id": "27584da5-26d4-465b-8c0f-d5167feb777d",
   "metadata": {},
   "outputs": [],
   "source": [
    "# tests for different T, m=5\n",
    "m = 5\n",
    "n_pred = 3\n",
    "\n",
    "real_di_5_t = []\n",
    "knn_di_5_t = []\n",
    "knn_di_5_sqrt_t = []\n",
    "kde_di_5_t = []\n",
    "\n",
    "for t in range(100, 1001, 100):\n",
    "    real_di_i = []\n",
    "    knn_di_i = []\n",
    "    knn_di_sqrt_i = []\n",
    "    kde_di_i = []\n",
    "\n",
    "    knn = KNN()\n",
    "    knn_sqrt = KNN(k=math.sqrt(t))\n",
    "    kde = KDE()\n",
    "    \n",
    "    for i in range(100):\n",
    "        var = VAR(m, order=1)\n",
    "        var.generate(n_pred)\n",
    "        timeseries = var.simulate(t)\n",
    "    \n",
    "        real_di = var.directed_information_graph().tolist()\n",
    "        estimated_di_knn = directed_information_graph(timeseries, estimator=knn).tolist()\n",
    "        estimated_di_knn_sqrt = directed_information_graph(timeseries, estimator=knn_sqrt).tolist()\n",
    "        estimated_di_kde = directed_information_graph(timeseries, estimator=kde).tolist()\n",
    "        \n",
    "        real_di_i.append(real_di)\n",
    "        knn_di_i.append(estimated_di_knn)\n",
    "        knn_di_sqrt_i.append(estimated_di_knn_sqrt)\n",
    "        kde_di_i.append(estimated_di_kde)\n",
    "\n",
    "    \n",
    "    real_di_5_t.append(real_di_i)\n",
    "    knn_di_5_t.append(knn_di_i)\n",
    "    knn_di_5_sqrt_t.append(knn_di_sqrt_i)\n",
    "    kde_di_5_t.append(kde_di_i)\n",
    "\n",
    "df_5_t = pd.DataFrame()\n",
    "df_5_t['real'] = real_di_5_t\n",
    "df_5_t['knn'] = knn_di_5_t\n",
    "df_5_t['knn_sqrt'] = knn_di_5_sqrt_t\n",
    "df_5_t['kde'] = kde_di_5_t\n",
    "df_5_t.to_csv('knn_kde_m_5_ts.csv', index=False)"
   ]
  },
  {
   "cell_type": "code",
   "execution_count": null,
   "id": "1a5cf92e-f8ef-4391-b8ed-c6cbd0c9fb10",
   "metadata": {},
   "outputs": [],
   "source": [
    "# tests for different T, m=2\n",
    "m = 10\n",
    "n_pred = 5\n",
    "\n",
    "real_di_2_t = []\n",
    "knn_di_2_t = []\n",
    "knn_di_2_sqrt_t = []\n",
    "kde_di_2_t = []\n",
    "\n",
    "for t in range(100, 1001, 100):\n",
    "    real_di_i = []\n",
    "    knn_di_i = []\n",
    "    knn_di_sqrt_i = []\n",
    "    kde_di_i = []\n",
    "\n",
    "    knn = KNN()\n",
    "    knn_sqrt = KNN(k=math.sqrt(t))\n",
    "    kde = KDE()\n",
    "    \n",
    "    for i in range(100):\n",
    "        var = VAR(m, order=1)\n",
    "        var.generate(n_pred)\n",
    "        timeseries = var.simulate(t)\n",
    "    \n",
    "        real_di = var.directed_information_graph().tolist()\n",
    "        estimated_di_knn = directed_information_graph(timeseries, estimator=knn).tolist()\n",
    "        estimated_di_knn_sqrt = directed_information_graph(timeseries, estimator=knn_sqrt).tolist()\n",
    "        estimated_di_kde = directed_information_graph(timeseries, estimator=kde).tolist()\n",
    "        \n",
    "        real_di_i.append(real_di)\n",
    "        knn_di_i.append(estimated_di_knn)\n",
    "        knn_di_sqrt_i.append(estimated_di_knn_sqrt)\n",
    "        kde_di_i.append(estimated_di_kde)\n",
    "\n",
    "    \n",
    "    real_di_10_t.append(real_di_i)\n",
    "    knn_di_10_t.append(knn_di_i)\n",
    "    knn_di_10_sqrt_t.append(knn_di_sqrt_i)\n",
    "    kde_di_10_t.append(kde_di_i)\n",
    "\n",
    "df_10_t = pd.DataFrame()\n",
    "df_10_t['real'] = real_di_10_t\n",
    "df_10_t['knn'] = knn_di_10_t\n",
    "df_10_t['knn_sqrt'] = knn_di_10_sqrt_t\n",
    "df_10_t['kde'] = kde_di_10_t\n",
    "df_10_t.to_csv('knn_kde_m_10_ts.csv', index=False)"
   ]
  },
  {
   "cell_type": "code",
   "execution_count": null,
   "id": "b1ae185c-34ae-4009-9c43-72f736eeb93b",
   "metadata": {},
   "outputs": [],
   "source": [
    "# tests for different T, m=3\n",
    "m = 3\n",
    "n_pred = 2\n",
    "\n",
    "real_di_3_t = []\n",
    "knn_di_3_t = []\n",
    "knn_di_3_sqrt_t = []\n",
    "\n",
    "for t in range(100, 1001, 100):\n",
    "    real_di_i = []\n",
    "    knn_di_i = []\n",
    "    knn_di_sqrt_i = []\n",
    "    \n",
    "    knn = KNN()\n",
    "    knn_sqrt = KNN(k=math.sqrt(t))\n",
    "\n",
    "    for i in range(100):\n",
    "        var = VAR(m, order=1)\n",
    "        var.generate(n_pred)\n",
    "        timeseries = var.simulate(t)\n",
    "    \n",
    "        real_di = var.directed_information_graph().tolist()\n",
    "        estimated_di_knn = directed_information_graph(timeseries, estimator=knn).tolist()\n",
    "        estimated_di_knn_sqrt = directed_information_graph(timeseries, estimator=knn_sqrt).tolist()\n",
    "        \n",
    "        real_di_i.append(real_di)\n",
    "        knn_di_i.append(estimated_di_knn)\n",
    "        knn_di_sqrt_i.append(estimated_di_knn_sqrt)\n",
    "\n",
    "    \n",
    "    real_di_3_t.append(real_di_i)\n",
    "    knn_di_3_t.append(knn_di_i)\n",
    "    knn_di_3_sqrt_t.append(knn_di_sqrt_i)\n",
    "\n",
    "\n",
    "df_3_t = pd.DataFrame()\n",
    "df_3_t['real'] = real_di_3_t\n",
    "df_3_t['knn'] = knn_di_3_t\n",
    "df_3_t['knn_sqrt'] = knn_di_3_sqrt_t\n",
    "df_3_t.to_csv('knn_m_3_ts.csv', index=False)"
   ]
  },
  {
   "cell_type": "code",
   "execution_count": null,
   "id": "ad35f3a0-5abb-4d67-b649-37c2eb604997",
   "metadata": {},
   "outputs": [],
   "source": [
    "# tests for different T, m=4\n",
    "m = 4\n",
    "n_pred = 2\n",
    "\n",
    "real_di_3_t = []\n",
    "knn_di_3_t = []\n",
    "knn_di_3_sqrt_t = []\n",
    "\n",
    "for t in range(100, 1001, 100):\n",
    "    real_di_i = []\n",
    "    knn_di_i = []\n",
    "    knn_di_sqrt_i = []\n",
    "    \n",
    "    knn = KNN()\n",
    "    knn_sqrt = KNN(k=math.sqrt(t))\n",
    "\n",
    "    for i in range(100):\n",
    "        var = VAR(m, order=1)\n",
    "        var.generate(n_pred)\n",
    "        timeseries = var.simulate(t)\n",
    "    \n",
    "        real_di = var.directed_information_graph().tolist()\n",
    "        estimated_di_knn = directed_information_graph(timeseries, estimator=knn).tolist()\n",
    "        estimated_di_knn_sqrt = directed_information_graph(timeseries, estimator=knn_sqrt).tolist()\n",
    "        \n",
    "        real_di_i.append(real_di)\n",
    "        knn_di_i.append(estimated_di_knn)\n",
    "        knn_di_sqrt_i.append(estimated_di_knn_sqrt)\n",
    "\n",
    "    \n",
    "    real_di_4_t.append(real_di_i)\n",
    "    knn_di_4_t.append(knn_di_i)\n",
    "    knn_di_4_sqrt_t.append(knn_di_sqrt_i)\n",
    "\n",
    "\n",
    "df_4_t = pd.DataFrame()\n",
    "df_4_t['real'] = real_di_4_t\n",
    "df_4_t['knn'] = knn_di_4_t\n",
    "df_4_t['knn_sqrt'] = knn_di_4_sqrt_t\n",
    "df_4_t.to_csv('knn_m_4_ts.csv', index=False)"
   ]
  },
  {
   "cell_type": "code",
   "execution_count": null,
   "id": "c4c4db9c-229f-4b4c-9a99-dcf78927de41",
   "metadata": {},
   "outputs": [],
   "source": [
    "# tests for different T, m=6\n",
    "m = 6\n",
    "n_pred = 3\n",
    "\n",
    "real_di_6_t = []\n",
    "knn_di_6_t = []\n",
    "knn_di_6_sqrt_t = []\n",
    "\n",
    "for t in range(100, 1001, 100):\n",
    "    real_di_i = []\n",
    "    knn_di_i = []\n",
    "    knn_di_sqrt_i = []\n",
    "    \n",
    "    knn = KNN()\n",
    "    knn_sqrt = KNN(k=math.sqrt(t))\n",
    "\n",
    "    for i in range(100):\n",
    "        var = VAR(m, order=1)\n",
    "        var.generate(n_pred)\n",
    "        timeseries = var.simulate(t)\n",
    "    \n",
    "        real_di = var.directed_information_graph().tolist()\n",
    "        estimated_di_knn = directed_information_graph(timeseries, estimator=knn).tolist()\n",
    "        estimated_di_knn_sqrt = directed_information_graph(timeseries, estimator=knn_sqrt).tolist()\n",
    "        \n",
    "        real_di_i.append(real_di)\n",
    "        knn_di_i.append(estimated_di_knn)\n",
    "        knn_di_sqrt_i.append(estimated_di_knn_sqrt)\n",
    "\n",
    "    \n",
    "    real_di_6_t.append(real_di_i)\n",
    "    knn_di_6_t.append(knn_di_i)\n",
    "    knn_di_6_sqrt_t.append(knn_di_sqrt_i)\n",
    "\n",
    "\n",
    "df_6_t = pd.DataFrame()\n",
    "df_6_t['real'] = real_di_6_t\n",
    "df_6_t['knn'] = knn_di_6_t\n",
    "df_6_t['knn_sqrt'] = knn_di_6_sqrt_t\n",
    "df_6_t.to_csv('knn_m_6_ts.csv', index=False)"
   ]
  },
  {
   "cell_type": "code",
   "execution_count": null,
   "id": "9b1ea082-60be-4a70-ba13-f02c8416a8e0",
   "metadata": {},
   "outputs": [],
   "source": [
    "# tests for different T, m=7\n",
    "m = 7\n",
    "n_pred = 4\n",
    "\n",
    "real_di_7_t = []\n",
    "knn_di_7_t = []\n",
    "knn_di_7_sqrt_t = []\n",
    "\n",
    "for t in range(100, 1001, 100):\n",
    "    real_di_i = []\n",
    "    knn_di_i = []\n",
    "    knn_di_sqrt_i = []\n",
    "    \n",
    "    knn = KNN()\n",
    "    knn_sqrt = KNN(k=math.sqrt(t))\n",
    "\n",
    "    for i in range(100):\n",
    "        var = VAR(m, order=1)\n",
    "        var.generate(n_pred)\n",
    "        timeseries = var.simulate(t)\n",
    "    \n",
    "        real_di = var.directed_information_graph().tolist()\n",
    "        estimated_di_knn = directed_information_graph(timeseries, estimator=knn).tolist()\n",
    "        estimated_di_knn_sqrt = directed_information_graph(timeseries, estimator=knn_sqrt).tolist()\n",
    "        \n",
    "        real_di_i.append(real_di)\n",
    "        knn_di_i.append(estimated_di_knn)\n",
    "        knn_di_sqrt_i.append(estimated_di_knn_sqrt)\n",
    "\n",
    "    \n",
    "    real_di_7_t.append(real_di_i)\n",
    "    knn_di_7_t.append(knn_di_i)\n",
    "    knn_di_7_sqrt_t.append(knn_di_sqrt_i)\n",
    "\n",
    "\n",
    "df_7_t = pd.DataFrame()\n",
    "df_7_t['real'] = real_di_7_t\n",
    "df_7_t['knn'] = knn_di_7_t\n",
    "df_7_t['knn_sqrt'] = knn_di_7_sqrt_t\n",
    "df_7_t.to_csv('knn_m_7_ts.csv', index=False)"
   ]
  },
  {
   "cell_type": "code",
   "execution_count": null,
   "id": "7025c631-de2c-4a99-b7ac-4f474bef5a63",
   "metadata": {},
   "outputs": [],
   "source": [
    "# tests for different T, m=8\n",
    "m = 8\n",
    "n_pred = 4\n",
    "\n",
    "real_di_8_t = []\n",
    "knn_di_8_t = []\n",
    "knn_di_8_sqrt_t = []\n",
    "\n",
    "for t in range(100, 1001, 100):\n",
    "    real_di_i = []\n",
    "    knn_di_i = []\n",
    "    knn_di_sqrt_i = []\n",
    "    \n",
    "    knn = KNN()\n",
    "    knn_sqrt = KNN(k=math.sqrt(t))\n",
    "\n",
    "    for i in range(100):\n",
    "        var = VAR(m, order=1)\n",
    "        var.generate(n_pred)\n",
    "        timeseries = var.simulate(t)\n",
    "    \n",
    "        real_di = var.directed_information_graph().tolist()\n",
    "        estimated_di_knn = directed_information_graph(timeseries, estimator=knn).tolist()\n",
    "        estimated_di_knn_sqrt = directed_information_graph(timeseries, estimator=knn_sqrt).tolist()\n",
    "        \n",
    "        real_di_i.append(real_di)\n",
    "        knn_di_i.append(estimated_di_knn)\n",
    "        knn_di_sqrt_i.append(estimated_di_knn_sqrt)\n",
    "\n",
    "    \n",
    "    real_di_8_t.append(real_di_i)\n",
    "    knn_di_8_t.append(knn_di_i)\n",
    "    knn_di_8_sqrt_t.append(knn_di_sqrt_i)\n",
    "\n",
    "\n",
    "df_8_t = pd.DataFrame()\n",
    "df_8_t['real'] = real_di_8_t\n",
    "df_8_t['knn'] = knn_di_8_t\n",
    "df_8_t['knn_sqrt'] = knn_di_8_sqrt_t\n",
    "df_8_t.to_csv('knn_m_8_ts.csv', index=False)"
   ]
  },
  {
   "cell_type": "code",
   "execution_count": null,
   "id": "68f09a5c-3d0d-4103-86c1-8851c9a727a2",
   "metadata": {},
   "outputs": [],
   "source": [
    "# tests for different T, m=9\n",
    "m = 9\n",
    "n_pred = 5\n",
    "\n",
    "real_di_9_t = []\n",
    "knn_di_9_t = []\n",
    "knn_di_9_sqrt_t = []\n",
    "\n",
    "for t in range(100, 1001, 100):\n",
    "    real_di_i = []\n",
    "    knn_di_i = []\n",
    "    knn_di_sqrt_i = []\n",
    "    \n",
    "    knn = KNN()\n",
    "    knn_sqrt = KNN(k=math.sqrt(t))\n",
    "\n",
    "    for i in range(100):\n",
    "        var = VAR(m, order=1)\n",
    "        var.generate(n_pred)\n",
    "        timeseries = var.simulate(t)\n",
    "    \n",
    "        real_di = var.directed_information_graph().tolist()\n",
    "        estimated_di_knn = directed_information_graph(timeseries, estimator=knn).tolist()\n",
    "        estimated_di_knn_sqrt = directed_information_graph(timeseries, estimator=knn_sqrt).tolist()\n",
    "        \n",
    "        real_di_i.append(real_di)\n",
    "        knn_di_i.append(estimated_di_knn)\n",
    "        knn_di_sqrt_i.append(estimated_di_knn_sqrt)\n",
    "\n",
    "    \n",
    "    real_di_9_t.append(real_di_i)\n",
    "    knn_di_9_t.append(knn_di_i)\n",
    "    knn_di_9_sqrt_t.append(knn_di_sqrt_i)\n",
    "\n",
    "\n",
    "df_9_t = pd.DataFrame()\n",
    "df_9_t['real'] = real_di_9_t\n",
    "df_9_t['knn'] = knn_di_9_t\n",
    "df_9_t['knn_sqrt'] = knn_di_9_sqrt_t\n",
    "df_9_t.to_csv('knn_m_9_ts.csv', index=False)"
   ]
  }
 ],
 "metadata": {
  "kernelspec": {
   "display_name": "Python 3 (ipykernel)",
   "language": "python",
   "name": "python3"
  },
  "language_info": {
   "codemirror_mode": {
    "name": "ipython",
    "version": 3
   },
   "file_extension": ".py",
   "mimetype": "text/x-python",
   "name": "python",
   "nbconvert_exporter": "python",
   "pygments_lexer": "ipython3",
   "version": "3.12.0"
  }
 },
 "nbformat": 4,
 "nbformat_minor": 5
}
