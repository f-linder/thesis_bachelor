{
 "cells": [
  {
   "cell_type": "code",
   "execution_count": null,
   "id": "d5e2f0f1-23a0-4668-b917-90ff7a094e2d",
   "metadata": {},
   "outputs": [],
   "source": [
    "from analysis.utils import *\n",
    "from analysis.probabilities import *\n",
    "from datetime import datetime"
   ]
  },
  {
   "cell_type": "code",
   "execution_count": null,
   "id": "ef4418ab-e397-40ba-858d-c77f424107e7",
   "metadata": {},
   "outputs": [],
   "source": [
    "# setup\n",
    "start_date = datetime(2015, 10, 15)\n",
    "end_date = datetime(2023, 10, 15)\n",
    "interval = '1d' \n",
    "\n",
    "# select index (SP100 or SP500)\n",
    "tickers = download_index(Index.SP100, start_date, end_date, interval)"
   ]
  }
 ],
 "metadata": {
  "kernelspec": {
   "display_name": "Python 3 (ipykernel)",
   "language": "python",
   "name": "python3"
  },
  "language_info": {
   "codemirror_mode": {
    "name": "ipython",
    "version": 3
   },
   "file_extension": ".py",
   "mimetype": "text/x-python",
   "name": "python",
   "nbconvert_exporter": "python",
   "pygments_lexer": "ipython3",
   "version": "3.10.12"
  }
 },
 "nbformat": 4,
 "nbformat_minor": 5
}
