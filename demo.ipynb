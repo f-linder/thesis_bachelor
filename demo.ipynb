{
 "cells": [
  {
   "cell_type": "code",
   "execution_count": 1,
   "id": "043b89e1-51c4-42f1-acf9-68edfeaad846",
   "metadata": {},
   "outputs": [],
   "source": [
    "from analysis.utils import *\n",
    "import pandas as pd"
   ]
  },
  {
   "cell_type": "code",
   "execution_count": 2,
   "id": "f55bd705-66a1-4e0e-9def-86361c13a98a",
   "metadata": {},
   "outputs": [
    {
     "name": "stdout",
     "output_type": "stream",
     "text": [
      "Starting download for all S&P100 constituents...\n",
      "Downloading AAPL: 1/101\n",
      "Downloading ABBV: 2/101\n",
      "Downloading ABT: 3/101\n",
      "Downloading ACN: 4/101\n",
      "Downloading ADBE: 5/101\n",
      "Downloading AIG: 6/101\n",
      "Downloading AMD: 7/101\n",
      "Downloading AMGN: 8/101\n",
      "Downloading AMT: 9/101\n",
      "Downloading AMZN: 10/101\n",
      "Downloading AVGO: 11/101\n",
      "Downloading AXP: 12/101\n",
      "Downloading BA: 13/101\n",
      "Downloading BAC: 14/101\n",
      "Downloading BK: 15/101\n",
      "Downloading BKNG: 16/101\n",
      "Downloading BLK: 17/101\n",
      "Downloading BMY: 18/101\n",
      "Downloading BRK.B: 19/101\n"
     ]
    },
    {
     "name": "stderr",
     "output_type": "stream",
     "text": [
      "\n",
      "1 Failed download:\n",
      "['BRK.B']: Exception('%ticker%: No timezone found, symbol may be delisted')\n"
     ]
    },
    {
     "name": "stdout",
     "output_type": "stream",
     "text": [
      "Downloading C: 20/101\n",
      "Downloading CAT: 21/101\n",
      "Downloading CHTR: 22/101\n",
      "Downloading CL: 23/101\n",
      "Downloading CMCSA: 24/101\n",
      "Downloading COF: 25/101\n",
      "Downloading COP: 26/101\n",
      "Downloading COST: 27/101\n",
      "Downloading CRM: 28/101\n",
      "Downloading CSCO: 29/101\n",
      "Downloading CVS: 30/101\n",
      "Downloading CVX: 31/101\n",
      "Downloading DE: 32/101\n",
      "Downloading DHR: 33/101\n",
      "Downloading DIS: 34/101\n",
      "Downloading DOW: 35/101\n",
      "Downloading DUK: 36/101\n",
      "Downloading EMR: 37/101\n",
      "Downloading EXC: 38/101\n",
      "Downloading F: 39/101\n",
      "Downloading FDX: 40/101\n",
      "Downloading GD: 41/101\n",
      "Downloading GE: 42/101\n",
      "Downloading GILD: 43/101\n",
      "Downloading GM: 44/101\n",
      "Downloading GOOG: 45/101\n",
      "Downloading GOOGL: 46/101\n",
      "Downloading GS: 47/101\n",
      "Downloading HD: 48/101\n",
      "Downloading HON: 49/101\n",
      "Downloading IBM: 50/101\n",
      "Downloading INTC: 51/101\n",
      "Downloading JNJ: 52/101\n",
      "Downloading JPM: 53/101\n",
      "Downloading KHC: 54/101\n",
      "Downloading KO: 55/101\n",
      "Downloading LIN: 56/101\n",
      "Downloading LLY: 57/101\n",
      "Downloading LMT: 58/101\n",
      "Downloading LOW: 59/101\n",
      "Downloading MA: 60/101\n",
      "Downloading MCD: 61/101\n",
      "Downloading MDLZ: 62/101\n",
      "Downloading MDT: 63/101\n",
      "Downloading MET: 64/101\n",
      "Downloading META: 65/101\n",
      "Downloading MMM: 66/101\n",
      "Downloading MO: 67/101\n",
      "Downloading MRK: 68/101\n",
      "Downloading MS: 69/101\n",
      "Downloading MSFT: 70/101\n",
      "Downloading NEE: 71/101\n",
      "Downloading NFLX: 72/101\n",
      "Downloading NKE: 73/101\n",
      "Downloading NVDA: 74/101\n",
      "Downloading ORCL: 75/101\n",
      "Downloading PEP: 76/101\n",
      "Downloading PFE: 77/101\n",
      "Downloading PG: 78/101\n",
      "Downloading PM: 79/101\n",
      "Downloading PYPL: 80/101\n",
      "Downloading QCOM: 81/101\n",
      "Downloading RTX: 82/101\n",
      "Downloading SBUX: 83/101\n",
      "Downloading SCHW: 84/101\n",
      "Downloading SO: 85/101\n",
      "Downloading SPG: 86/101\n",
      "Downloading T: 87/101\n",
      "Downloading TGT: 88/101\n",
      "Downloading TMO: 89/101\n",
      "Downloading TMUS: 90/101\n",
      "Downloading TSLA: 91/101\n",
      "Downloading TXN: 92/101\n",
      "Downloading UNH: 93/101\n",
      "Downloading UNP: 94/101\n",
      "Downloading UPS: 95/101\n",
      "Downloading USB: 96/101\n",
      "Downloading V: 97/101\n",
      "Downloading VZ: 98/101\n",
      "Downloading WFC: 99/101\n",
      "Downloading WMT: 100/101\n",
      "Downloading XOM: 101/101\n"
     ]
    }
   ],
   "source": [
    "index = Index.SP100\n",
    "download_all(index)"
   ]
  },
  {
   "cell_type": "code",
   "execution_count": 4,
   "id": "578b5f0d-c9ff-40c6-a60c-174541d0506e",
   "metadata": {},
   "outputs": [
    {
     "data": {
      "text/plain": [
       "0.09314733549116498"
      ]
     },
     "execution_count": 4,
     "metadata": {},
     "output_type": "execute_result"
    },
    {
     "data": {
      "image/png": "[encoded data removed]",
      "text/plain": [
       "<Figure size 640x480 with 1 Axes>"
      ]
     },
     "metadata": {},
     "output_type": "display_data"
    }
   ],
   "source": [
    "df['Return Rel'].hist(bins=51)\n",
    "df['Return Rel'].mean()\n",
    "#plt.hist(df['Return Rel'][:100])"
   ]
  },
  {
   "cell_type": "code",
   "execution_count": 3,
   "id": "cd737a8f-b383-4208-9590-07c2fce51cac",
   "metadata": {},
   "outputs": [
    {
     "name": "stdout",
     "output_type": "stream",
     "text": [
      "Clean up complete: removed all ticker csv files\n"
     ]
    }
   ],
   "source": [
    "clean_up()"
   ]
  },
  {
   "cell_type": "code",
   "execution_count": null,
   "id": "03a379dc-c445-4abb-8de5-0563319ff66d",
   "metadata": {},
   "outputs": [],
   "source": []
  }
 ],
 "metadata": {
  "kernelspec": {
   "display_name": "Python 3 (ipykernel)",
   "language": "python",
   "name": "python3"
  },
  "language_info": {
   "codemirror_mode": {
    "name": "ipython",
    "version": 3
   },
   "file_extension": ".py",
   "mimetype": "text/x-python",
   "name": "python",
   "nbconvert_exporter": "python",
   "pygments_lexer": "ipython3",
   "version": "3.10.12"
  }
 },
 "nbformat": 4,
 "nbformat_minor": 5
}
